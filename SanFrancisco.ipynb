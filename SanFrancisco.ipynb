{
 "cells": [
  {
   "cell_type": "markdown",
   "id": "e925f3b0",
   "metadata": {},
   "source": [
    "## This is challenge 1\n"
   ]
  },
  {
   "cell_type": "markdown",
   "id": "89fe0aaa",
   "metadata": {},
   "source": []
  },
  {
   "cell_type": "code",
   "execution_count": null,
   "id": "b040c5e6",
   "metadata": {
    "vscode": {
     "languageId": "plaintext"
    }
   },
   "outputs": [],
   "source": []
  }
 ],
 "metadata": {
  "language_info": {
   "name": "python"
  }
 },
 "nbformat": 4,
 "nbformat_minor": 5
}
